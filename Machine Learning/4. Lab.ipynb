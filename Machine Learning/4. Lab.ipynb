{
 "cells": [
  {
   "cell_type": "markdown",
   "metadata": {},
   "source": [
    "# Cost Function"
   ]
  },
  {
   "cell_type": "code",
   "execution_count": 10,
   "metadata": {},
   "outputs": [],
   "source": [
    "import numpy as np\n",
    "from numpy.typing import NDArray"
   ]
  },
  {
   "cell_type": "code",
   "execution_count": 11,
   "metadata": {},
   "outputs": [],
   "source": [
    "x_train: NDArray[np.float64] = np.array([1.0, 2.0])\n",
    "y_train: NDArray[np.float64] = np.array([300.0, 500.0])"
   ]
  },
  {
   "cell_type": "code",
   "execution_count": 17,
   "metadata": {},
   "outputs": [],
   "source": [
    "def compute_cost(\n",
    "    x: NDArray[np.float64], y: NDArray[np.float64], w: float, b: float\n",
    ") -> float:\n",
    "    m = x.shape[0]\n",
    "\n",
    "    # Shorter version:\n",
    "    return sum(float(w * x[i] + b - y[i]) ** 2 for i in range(m)) / (2 * m)\n",
    "\n",
    "    # Longer version:\n",
    "    # cost_sum = 0\n",
    "    # for i in range(m):\n",
    "    #     f_wb = float(w * x[i] + b)\n",
    "    #     cost = float((f_wb - y[i]) ** 2)\n",
    "    #     cost_sum += cost\n",
    "\n",
    "    # return (1 / (2 * m)) * cost_sum"
   ]
  },
  {
   "cell_type": "code",
   "execution_count": 18,
   "metadata": {},
   "outputs": [
    {
     "data": {
      "text/plain": [
       "21250.0"
      ]
     },
     "execution_count": 18,
     "metadata": {},
     "output_type": "execute_result"
    }
   ],
   "source": [
    "w = 100\n",
    "b = 50\n",
    "\n",
    "compute_cost(x_train, y_train, w, b)"
   ]
  },
  {
   "cell_type": "code",
   "execution_count": 19,
   "metadata": {},
   "outputs": [
    {
     "data": {
      "text/plain": [
       "0.0"
      ]
     },
     "execution_count": 19,
     "metadata": {},
     "output_type": "execute_result"
    }
   ],
   "source": [
    "w = 200\n",
    "b = 100\n",
    "\n",
    "compute_cost(x_train, y_train, w, b)"
   ]
  }
 ],
 "metadata": {
  "kernelspec": {
   "display_name": "Python 3",
   "language": "python",
   "name": "python3"
  },
  "language_info": {
   "codemirror_mode": {
    "name": "ipython",
    "version": 3
   },
   "file_extension": ".py",
   "mimetype": "text/x-python",
   "name": "python",
   "nbconvert_exporter": "python",
   "pygments_lexer": "ipython3",
   "version": "3.13.1"
  }
 },
 "nbformat": 4,
 "nbformat_minor": 2
}
