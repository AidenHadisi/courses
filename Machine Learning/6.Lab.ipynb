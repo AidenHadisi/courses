{
 "cells": [
  {
   "cell_type": "markdown",
   "metadata": {},
   "source": [
    "# Multiple Variable Linear Regression"
   ]
  },
  {
   "cell_type": "code",
   "execution_count": 18,
   "metadata": {},
   "outputs": [],
   "source": [
    "import numpy as np\n",
    "from numpy.typing import NDArray"
   ]
  },
  {
   "cell_type": "code",
   "execution_count": 19,
   "metadata": {},
   "outputs": [
    {
     "name": "stdout",
     "output_type": "stream",
     "text": [
      "X_train=array([[2104,    5,    1,   45],\n",
      "       [1416,    3,    2,   40],\n",
      "       [ 852,    2,    1,   35]])\n",
      "y_train=array([460, 232, 178])\n"
     ]
    }
   ],
   "source": [
    "X_train = np.array(np.array([[2104, 5, 1, 45], [1416, 3, 2, 40], [852, 2, 1, 35]]))\n",
    "y_train = np.array([460, 232, 178])\n",
    "\n",
    "print(f\"{X_train=}\")\n",
    "print(f\"{y_train=}\")"
   ]
  },
  {
   "cell_type": "code",
   "execution_count": 20,
   "metadata": {},
   "outputs": [
    {
     "name": "stdout",
     "output_type": "stream",
     "text": [
      "w_init=array([  0.39133535,  18.75376741, -53.36032453, -26.42131618])\n",
      "b_init=785.1811367994083\n"
     ]
    }
   ],
   "source": [
    "b_init = 785.1811367994083\n",
    "w_init = np.array([0.39133535, 18.75376741, -53.36032453, -26.42131618])\n",
    "print(f\"{w_init=}\\n{b_init=}\")"
   ]
  },
  {
   "cell_type": "markdown",
   "metadata": {},
   "source": [
    "Now we know that we can use linear regression for this:\n",
    "\n",
    "$$\n",
    "f(\\vec{w}, b) = \\vec{w} \\cdot \\vec{x} + b\n",
    "$$\n",
    "\n",
    "Which means:\n",
    "\n",
    "$$\n",
    "f(\\vec{w}, b) = w_1x_1 + w_2x_2 + w_3x_3 + ... + w_nx_n + b\n",
    "$$\n"
   ]
  },
  {
   "cell_type": "markdown",
   "metadata": {},
   "source": [
    "We can use a simple loop to do the calculation like so:"
   ]
  },
  {
   "cell_type": "code",
   "execution_count": 21,
   "metadata": {},
   "outputs": [],
   "source": [
    "def predict_loop(x: NDArray[np.float64], w: NDArray[np.float64], b: float) -> float:\n",
    "    \"\"\"Predicts y using a single loop.\n",
    "\n",
    "    Args:\n",
    "        x (NDArray[np.float64]): The input feature vector.\n",
    "        w (NDArray[np.float64]): The weights or model parameters.\n",
    "        b (float): model bias.\n",
    "\n",
    "    Returns:\n",
    "        float: prediction\n",
    "    \"\"\"\n",
    "    \n",
    "    m = x.shape[0]\n",
    "    return sum(x[i] * w[i] for i in range(m)) + b"
   ]
  },
  {
   "cell_type": "code",
   "execution_count": 22,
   "metadata": {},
   "outputs": [
    {
     "name": "stdout",
     "output_type": "stream",
     "text": [
      "prediction: 459.9999976194083\n"
     ]
    }
   ],
   "source": [
    "x_train = X_train[0,:]\n",
    "\n",
    "f_wb = predict_loop(x_train, w_init, b_init)\n",
    "print(f\"prediction: {f_wb}\")"
   ]
  },
  {
   "cell_type": "markdown",
   "metadata": {},
   "source": [
    "Or we can do the prediction using vectorization and numpy operations, which are much faster:"
   ]
  },
  {
   "cell_type": "code",
   "execution_count": 16,
   "metadata": {},
   "outputs": [],
   "source": [
    "def predict_vectorized(x: NDArray[np.float64], w: NDArray[np.float64], b: float) -> float:\n",
    "    \"\"\"Predicts y using vectorization.\n",
    "\n",
    "    Args:\n",
    "        x (NDArray[np.float64]): The input feature vector.\n",
    "        w (NDArray[np.float64]): The weights or model parameters.\n",
    "        b (float): model bias.\n",
    "\n",
    "    Returns:\n",
    "        float: prediction\n",
    "    \"\"\"\n",
    "\n",
    "    return np.dot(x, w) + b"
   ]
  },
  {
   "cell_type": "code",
   "execution_count": 17,
   "metadata": {},
   "outputs": [
    {
     "name": "stdout",
     "output_type": "stream",
     "text": [
      "prediction: 459.9999976194083\n"
     ]
    }
   ],
   "source": [
    "f_wb = predict_vectorized(x_train, w_init, b_init)\n",
    "print(f\"prediction: {f_wb}\")"
   ]
  },
  {
   "cell_type": "markdown",
   "metadata": {},
   "source": [
    "#  Compute Cost With Multiple Variables\n",
    "The equation for the cost function with multiple variables $J(\\mathbf{w},b)$ is:\n",
    "$$J(\\mathbf{w},b) = \\frac{1}{2m} \\sum\\limits_{i = 0}^{m-1} (f_{\\mathbf{w},b}(\\mathbf{x}^{(i)}) - y^{(i)})^2 \\tag{3}$$ \n",
    "where:\n",
    "$$ f_{\\mathbf{w},b}(\\mathbf{x}^{(i)}) = \\mathbf{w} \\cdot \\mathbf{x}^{(i)} + b  \\tag{4} $$ \n",
    "\n",
    "\n",
    "In contrast to previous labs, $\\mathbf{w}$ and $\\mathbf{x}^{(i)}$ are vectors rather than scalars supporting multiple features."
   ]
  },
  {
   "cell_type": "markdown",
   "metadata": {},
   "source": []
  }
 ],
 "metadata": {
  "kernelspec": {
   "display_name": "Python 3",
   "language": "python",
   "name": "python3"
  },
  "language_info": {
   "codemirror_mode": {
    "name": "ipython",
    "version": 3
   },
   "file_extension": ".py",
   "mimetype": "text/x-python",
   "name": "python",
   "nbconvert_exporter": "python",
   "pygments_lexer": "ipython3",
   "version": "3.13.1"
  }
 },
 "nbformat": 4,
 "nbformat_minor": 2
}
