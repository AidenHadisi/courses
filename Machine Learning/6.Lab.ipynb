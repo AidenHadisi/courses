{
 "cells": [
  {
   "cell_type": "markdown",
   "metadata": {},
   "source": [
    "# Multi Variable Linear Regression"
   ]
  },
  {
   "cell_type": "markdown",
   "metadata": {},
   "source": [
    "Multiple variable regression is similar to the single variable regression, but instead of one feature variable ($x$), we have $n$ features ($\\vec{x}$)\n",
    "\n",
    "Similarity, instead of one weight ($w$), we have one weight for each feature ($\\vec{w}$)\n",
    "\n",
    "In this case, our function (the model) is defined as:\n",
    "\n",
    "$$\n",
    "f_{(\\vec{w},b)}(\\vec{x}) = \\vec{w} \\cdot \\vec{x} + b\n",
    "$$\n",
    "\n",
    "$$\n",
    "f_{(\\vec{w},b)}(\\vec{x}) = w_1x_1 + w_2x_2 + ... + w_nx_n + b\n",
    "$$\n",
    "\n",
    "$$\n",
    "f_{(\\vec{w},b)}(\\vec{x}) = \\sum_{j=1}^{n}\\left( w_ix_i  \\right) + b\n",
    "$$\n"
   ]
  },
  {
   "cell_type": "markdown",
   "metadata": {},
   "source": [
    "The cost function will be defined as:\n",
    "\n",
    "$$\n",
    "J_{\\vec{w}, b} = \\frac{1}{2m} \\sum"
   ]
  },
  {
   "cell_type": "markdown",
   "metadata": {},
   "source": []
  }
 ],
 "metadata": {
  "kernelspec": {
   "display_name": "Python 3",
   "language": "python",
   "name": "python3"
  },
  "language_info": {
   "codemirror_mode": {
    "name": "ipython",
    "version": 3
   },
   "file_extension": ".py",
   "mimetype": "text/x-python",
   "name": "python",
   "nbconvert_exporter": "python",
   "pygments_lexer": "ipython3",
   "version": "3.13.1"
  }
 },
 "nbformat": 4,
 "nbformat_minor": 2
}
