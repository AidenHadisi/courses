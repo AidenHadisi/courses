{
 "cells": [
  {
   "cell_type": "markdown",
   "metadata": {},
   "source": [
    "# Optional Lab: Model Representation"
   ]
  },
  {
   "cell_type": "code",
   "execution_count": 1,
   "id": "7d5a2c5c",
   "metadata": {},
   "outputs": [],
   "source": [
    "import numpy as np\n",
    "from numpy.typing import NDArray\n",
    "\n",
    "import matplotlib.pyplot as plt"
   ]
  },
  {
   "cell_type": "code",
   "execution_count": 2,
   "id": "18c67ce1",
   "metadata": {},
   "outputs": [
    {
     "name": "stdout",
     "output_type": "stream",
     "text": [
      "x_train = [1 2]\n",
      "y_train = [300 500]\n"
     ]
    }
   ],
   "source": [
    "x_train = np.array([1, 2])\n",
    "y_train = np.array([300, 500])\n",
    "print(f\"x_train = {x_train}\")\n",
    "print(f\"y_train = {y_train}\")"
   ]
  },
  {
   "cell_type": "code",
   "execution_count": 10,
   "id": "6486fe02",
   "metadata": {},
   "outputs": [],
   "source": [
    "type Point2D = NDArray[np.float64]\n",
    "\n",
    "\n",
    "def find_line_params(x: Point2D, y: Point2D, /) -> tuple[float, float]:\n",
    "    \"\"\"Calculate the slope and intercept of a line passing through two points.\n",
    "\n",
    "    Args:\n",
    "        x: Array of x-coordinates for two points\n",
    "        y: Array of y-coordinates for two points\n",
    "\n",
    "    Returns:\n",
    "        Tuple of (slope, intercept) defining the line y = mx + b\n",
    "\n",
    "    Raises:\n",
    "        ValueError: If input arrays don't contain exactly 2 points\n",
    "        ZeroDivisionError: If x[0] == x[1] (vertical line)\n",
    "    \"\"\"\n",
    "    match (x.size, y.size):\n",
    "        case (2, 2):\n",
    "            x0, x1 = x\n",
    "            y0, y1 = y\n",
    "            if x0 == x1:\n",
    "                raise ZeroDivisionError(\"Vertical line has undefined slope\")\n",
    "            slope = (y1 - y0) / (x1 - x0)\n",
    "            intercept = y0 - slope * x0\n",
    "            return slope, intercept\n",
    "        case _:\n",
    "            raise ValueError(\"Input arrays must contain exactly 2 points\")"
   ]
  },
  {
   "cell_type": "code",
   "execution_count": 12,
   "id": "8a4e443e",
   "metadata": {},
   "outputs": [],
   "source": [
    "def predict(x: Point2D, w: float, b: float, /) -> Point2D:\n",
    "    \"\"\"Compute linear model predictions y = wx + b vectorized over input features.\n",
    "\n",
    "    Args:\n",
    "        x: Input feature array of shape (m,)\n",
    "        w: Model weight/slope parameter\n",
    "        b: Model bias/intercept parameter\n",
    "\n",
    "    Returns:\n",
    "        Array of predictions with same shape as input\n",
    "\n",
    "    Notes:\n",
    "        Vectorized implementation eliminates explicit loops for better performance\n",
    "    \"\"\"\n",
    "    return np.asarray((w * x + b), dtype=np.float64)  # Ensure float64 output"
   ]
  },
  {
   "cell_type": "code",
   "execution_count": 8,
   "id": "25ae5597",
   "metadata": {},
   "outputs": [
    {
     "name": "stdout",
     "output_type": "stream",
     "text": [
      "w = 200.0\n",
      "b = 100.0\n",
      "f_wb = [300. 500.]\n"
     ]
    }
   ],
   "source": [
    "w, b = find_line_params(x_train, y_train)\n",
    "\n",
    "print(f\"w = {w}\")\n",
    "print(f\"b = {b}\")\n",
    "\n",
    "f_wb = predict(x_train, w, b)\n",
    "print(f\"f_wb = {f_wb}\")"
   ]
  }
 ],
 "metadata": {
  "kernelspec": {
   "display_name": "Python 3",
   "language": "python",
   "name": "python3"
  },
  "language_info": {
   "codemirror_mode": {
    "name": "ipython",
    "version": 3
   },
   "file_extension": ".py",
   "mimetype": "text/x-python",
   "name": "python",
   "nbconvert_exporter": "python",
   "pygments_lexer": "ipython3",
   "version": "3.13.1"
  },
  "toc-autonumbering": false
 },
 "nbformat": 4,
 "nbformat_minor": 5
}
