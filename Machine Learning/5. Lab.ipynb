{
 "cells": [
  {
   "cell_type": "markdown",
   "metadata": {},
   "source": [
    "# Gradient Descent"
   ]
  },
  {
   "cell_type": "code",
   "execution_count": 20,
   "metadata": {},
   "outputs": [],
   "source": [
    "import numpy as np\n",
    "from numpy.typing import NDArray\n",
    "import matplotlib.pyplot as plt "
   ]
  },
  {
   "cell_type": "code",
   "execution_count": 21,
   "metadata": {},
   "outputs": [
    {
     "name": "stdout",
     "output_type": "stream",
     "text": [
      "x_train=[1. 2.]\n",
      "y_train=[300. 500.]\n"
     ]
    }
   ],
   "source": [
    "x_train = np.array([1.0, 2.0])  # our training data\n",
    "y_train = np.array([300.0, 500])  # the output labels/target values.\n",
    "\n",
    "print(f\"x_train={x_train}\")\n",
    "print(f\"y_train={y_train}\")"
   ]
  },
  {
   "cell_type": "markdown",
   "metadata": {},
   "source": [
    "The cost function is as follows:\n",
    "\n",
    "$$\n",
    "J(w, b) = \\frac{1}{2m}\\sum_{i=1}^{m}\\left(f_{w,b}(x^i) - y^i\\right)^2\n",
    "$$"
   ]
  },
  {
   "cell_type": "code",
   "execution_count": 22,
   "metadata": {},
   "outputs": [],
   "source": [
    "def compute_cost(x: NDArray[np.float64], y: NDArray[np.float64], w: float, b: float) -> float:\n",
    "    \"\"\"\n",
    "    Computes the cost function for linear regression.\n",
    "\n",
    "    The cost function measures the difference between predicted values and actual values\n",
    "    using the mean squared error (MSE) formula.\n",
    "\n",
    "    Args:\n",
    "        x (NDArray[np.float64]): Input feature values (independent variable).\n",
    "        y (NDArray[np.float64]): Target values (dependent variable).\n",
    "        w (float): Weight (slope) of the linear model.\n",
    "        b (float): Bias (intercept) of the linear model.\n",
    "\n",
    "    Returns:\n",
    "        float: The computed cost value.\n",
    "    \"\"\"\n",
    "    \n",
    "    m = len(x)\n",
    "    return sum(((x[i] * w + b) - y[i]) ** 2 for i in range(m))/(2*m)"
   ]
  },
  {
   "cell_type": "markdown",
   "metadata": {},
   "source": [
    "We can use vectorization to improve our implementation:"
   ]
  },
  {
   "cell_type": "code",
   "execution_count": 23,
   "metadata": {},
   "outputs": [],
   "source": [
    "def compute_cost(\n",
    "    x: NDArray[np.float64], y: NDArray[np.float64], w: float, b: float\n",
    ") -> float:\n",
    "    \"\"\"\n",
    "    Computes the cost function for linear regression.\n",
    "\n",
    "    The cost function measures the difference between predicted values and actual values\n",
    "    using the mean squared error (MSE) formula.\n",
    "\n",
    "    Args:\n",
    "        x (NDArray[np.float64]): Input feature values (independent variable).\n",
    "        y (NDArray[np.float64]): Target values (dependent variable).\n",
    "        w (float): Weight (slope) of the linear model.\n",
    "        b (float): Bias (intercept) of the linear model.\n",
    "\n",
    "    Returns:\n",
    "        float: The computed cost value.\n",
    "    \"\"\"\n",
    "\n",
    "    errors = (w * x + b - y) ** 2\n",
    "    return float(np.mean(errors)) / 2"
   ]
  },
  {
   "cell_type": "markdown",
   "metadata": {},
   "source": [
    "The Gradient Descent algorithm is as follows:\n",
    "\n",
    "\n",
    "$$\n",
    "\\text{Repeat until convergence:}\n",
    "\\left\\{ \n",
    "\n",
    "\\begin{align*}\n",
    "w := w - \\alpha\\frac{\\partial{J}}{\\partial{w}} \\\\ \n",
    "b := b - \\alpha\\frac{\\partial{J}}{\\partial{b}}\n",
    "\\end{align*}\n",
    "\n",
    "\n",
    "\\right\\}\t\n",
    "\n",
    "$$"
   ]
  },
  {
   "cell_type": "markdown",
   "metadata": {},
   "source": [
    "The partial derivatives are as follows:\n",
    "\n",
    "$$\n",
    "\\frac{\\partial{J}}{\\partial{w}} = \\frac{1}{m}\\sum_{i=1}^{m}\\left(f_{w,b}(x^i) - y^i\\right)(x^i) = \\frac{1}{m}\\sum_{i=1}^{m}\\left(wx^i+b - y^i\\right)(x^i)\n",
    "$$ \n",
    "\n",
    "$$\n",
    "\\frac{\\partial{J}}{\\partial{w}} = \\frac{1}{m}\\sum_{i=1}^{m}\\left(f_{w,b}(x^i) - y^i\\right) = \\frac{1}{m}\\sum_{i=1}^{m}\\left(wx^i+b - y^i\\right)\n",
    "$$"
   ]
  },
  {
   "cell_type": "code",
   "execution_count": 28,
   "metadata": {},
   "outputs": [],
   "source": [
    "from typing import NamedTuple, Callable\n",
    "\n",
    "\n",
    "class GradientDescentOutput(NamedTuple):\n",
    "    \"\"\"Represents the output of the gradient descent algorithm.\n",
    "\n",
    "    Attributes:\n",
    "        w (float): The final weight of the model.\n",
    "        b (float): The final bias of the model.\n",
    "        cost_history (list[float]): History of the cost (loss) at each iteration.\n",
    "        param_history (list[tuple[float, float]]): History of (w, b) parameter\n",
    "            values at each iteration.\n",
    "    \"\"\"\n",
    "\n",
    "    w: float\n",
    "    b: float\n",
    "    cost_history: list[float]\n",
    "    param_history: list[tuple[float, float]]\n",
    "\n",
    "\n",
    "def perform_gradient_descent(\n",
    "    x: NDArray[np.float64],\n",
    "    y: NDArray[np.float64],\n",
    "    *,\n",
    "    initial_w: float = 0,\n",
    "    initial_b: float = 0,\n",
    "    alpha: float = 0.01,\n",
    "    iterations: int = 10_000,\n",
    ") -> GradientDescentOutput:\n",
    "    \"\"\"\n",
    "    Performs gradient descent optimization on a linear model of the form y = w * x + b.\n",
    "\n",
    "    Args:\n",
    "        x (np.ndarray): Independent variable data of shape (m,).\n",
    "        y (np.ndarray): Dependent variable data (labels) of shape (m,).\n",
    "        initial_w (float, optional): The initial weight parameter for the model.\n",
    "            Defaults to 0.0.\n",
    "        initial_b (float, optional): The initial bias parameter for the model.\n",
    "            Defaults to 0.0.\n",
    "        alpha (float, optional): The learning rate for gradient descent.\n",
    "            Defaults to 0.01.\n",
    "        iterations (int, optional): The number of gradient descent iterations.\n",
    "            Defaults to 10_000.\n",
    "\n",
    "    Returns:\n",
    "        GradientDescentOutput: A named tuple containing:\n",
    "            - w (float): The final weight value.\n",
    "            - b (float): The final bias value.\n",
    "            - cost_history (list[float]): The cost at each iteration (MSE / 2).\n",
    "            - param_history (list[tuple[float, float]]): The (w, b) values at each iteration.\n",
    "    \"\"\"\n",
    "\n",
    "    m = x.shape[0]\n",
    "    w = initial_w\n",
    "    b = initial_b\n",
    "    cost_history: list[float] = []\n",
    "    param_history: list[tuple[float, float]] = []\n",
    "\n",
    "    # Calcuates the\n",
    "    d_dw: Callable[[float, float], float] = (\n",
    "        lambda w, b: sum((w * float(x[i]) + b - y[i]) * x[i] for i in range(m)) / m\n",
    "    )\n",
    "\n",
    "    d_db: Callable[[float, float], float] = (\n",
    "        lambda w, b: sum((w * float(x[i]) + b - y[i]) for i in range(m)) / m\n",
    "    )\n",
    "\n",
    "    for i in range(iterations):\n",
    "        dw = d_dw(w, b)\n",
    "        db = d_db(w, b)\n",
    "\n",
    "        w = w - alpha * dw\n",
    "        b = b - alpha * db\n",
    "        cost = compute_cost(x, y, w, b)\n",
    "        cost_history.append(cost)\n",
    "        param_history.append((w, b))\n",
    "\n",
    "        if i % (iterations / 10) == 0:\n",
    "            print(f\"Iteration={i}, {w=}, {b=}, {cost=}\")\n",
    "\n",
    "    return GradientDescentOutput(\n",
    "        w=w, b=b, cost_history=cost_history, param_history=param_history\n",
    "    )"
   ]
  },
  {
   "cell_type": "markdown",
   "metadata": {},
   "source": [
    "We can improve this implementation using vectorization and numpy operations:"
   ]
  },
  {
   "cell_type": "code",
   "execution_count": 30,
   "metadata": {},
   "outputs": [],
   "source": [
    "def perform_gradient_descent(\n",
    "    x: NDArray[np.float64],\n",
    "    y: NDArray[np.float64],\n",
    "    *,\n",
    "    initial_w: float = 0,\n",
    "    initial_b: float = 0,\n",
    "    alpha: float = 0.01,\n",
    "    iterations: int = 10_000,\n",
    ") -> GradientDescentOutput:\n",
    "    \"\"\"\n",
    "    Performs gradient descent optimization on a linear model of the form y = w * x + b.\n",
    "\n",
    "    Args:\n",
    "        x (np.ndarray): Independent variable data of shape (m,).\n",
    "        y (np.ndarray): Dependent variable data (labels) of shape (m,).\n",
    "        initial_w (float, optional): The initial weight parameter for the model.\n",
    "            Defaults to 0.0.\n",
    "        initial_b (float, optional): The initial bias parameter for the model.\n",
    "            Defaults to 0.0.\n",
    "        alpha (float, optional): The learning rate for gradient descent.\n",
    "            Defaults to 0.01.\n",
    "        iterations (int, optional): The number of gradient descent iterations.\n",
    "            Defaults to 10_000.\n",
    "\n",
    "    Returns:\n",
    "        GradientDescentOutput: A named tuple containing:\n",
    "            - w (float): The final weight value.\n",
    "            - b (float): The final bias value.\n",
    "            - cost_history (list[float]): The cost at each iteration (MSE / 2).\n",
    "            - param_history (list[tuple[float, float]]): The (w, b) values at each iteration.\n",
    "    \"\"\"\n",
    "\n",
    "    w, b = initial_w, initial_b\n",
    "    cost_history: list[float] = []\n",
    "    param_history: list[tuple[float, float]] = []\n",
    "\n",
    "    for _ in range(iterations):\n",
    "\n",
    "        errors = w * x + b - y\n",
    "\n",
    "        d_dw = np.mean(errors * x)\n",
    "        d_db = np.mean(errors)\n",
    "\n",
    "        w -= alpha * float(d_dw)\n",
    "        b -= alpha * float(d_db)\n",
    "\n",
    "        cost = compute_cost(x, y, w, b)\n",
    "\n",
    "        cost_history.append(cost)\n",
    "        param_history.append((w, b))\n",
    "\n",
    "    return GradientDescentOutput(w, b, cost_history, param_history)"
   ]
  },
  {
   "cell_type": "code",
   "execution_count": 32,
   "metadata": {},
   "outputs": [
    {
     "name": "stdout",
     "output_type": "stream",
     "text": [
      "Final w: 199.99285075131766, Final b: 100.011567727362\n"
     ]
    }
   ],
   "source": [
    "output = perform_gradient_descent(x_train, y_train)\n",
    "print(f\"Final w: {output.w}, Final b: {output.b}\")"
   ]
  },
  {
   "cell_type": "markdown",
   "metadata": {},
   "source": [
    "Now let's plot our cost and parameter history.\n",
    "\n",
    "We will use different plots of start (first 100 iterations) and end (final 9000 iterations) because the rate of change is very different among them."
   ]
  },
  {
   "cell_type": "code",
   "execution_count": 45,
   "metadata": {},
   "outputs": [
    {
     "data": {
      "text/plain": [
       "[<matplotlib.lines.Line2D at 0x117f38cd0>]"
      ]
     },
     "execution_count": 45,
     "metadata": {},
     "output_type": "execute_result"
    },
    {
     "data": {
      "image/png": "[encoded data removed]",
      "text/plain": [
       "<Figure size 1200x400 with 2 Axes>"
      ]
     },
     "metadata": {},
     "output_type": "display_data"
    }
   ],
   "source": [
    "fig, (ax1, ax2) = plt.subplots(1, 2, constrained_layout=True, figsize=(12,4))\n",
    "\n",
    "ax1.set_title(\"Cost v. Iterations (Start)\")\n",
    "ax2.set_title(\"Cost v. Iterations (End)\")\n",
    "\n",
    "ax1.set_xlabel(\"Iterations\")\n",
    "ax2.set_xlabel(\"Iterations\")\n",
    "\n",
    "ax1.set_ylabel(\"J\")\n",
    "ax2.set_ylabel(\"J\")\n",
    "\n",
    "ax1.plot(output.cost_history[:100])\n",
    "ax2.plot(1000 + np.arange(len(output.cost_history[1000:])), output.cost_history[1000:])"
   ]
  }
 ],
 "metadata": {
  "kernelspec": {
   "display_name": "Python 3",
   "language": "python",
   "name": "python3"
  },
  "language_info": {
   "codemirror_mode": {
    "name": "ipython",
    "version": 3
   },
   "file_extension": ".py",
   "mimetype": "text/x-python",
   "name": "python",
   "nbconvert_exporter": "python",
   "pygments_lexer": "ipython3",
   "version": "3.13.1"
  }
 },
 "nbformat": 4,
 "nbformat_minor": 2
}
